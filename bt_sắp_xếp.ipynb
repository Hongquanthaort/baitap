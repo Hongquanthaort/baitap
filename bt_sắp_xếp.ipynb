{
  "nbformat": 4,
  "nbformat_minor": 0,
  "metadata": {
    "colab": {
      "name": "bt sắp xếp.ipynb",
      "provenance": [],
      "collapsed_sections": [],
      "include_colab_link": true
    },
    "kernelspec": {
      "name": "python3",
      "display_name": "Python 3"
    },
    "language_info": {
      "name": "python"
    }
  },
  "cells": [
    {
      "cell_type": "markdown",
      "metadata": {
        "id": "view-in-github",
        "colab_type": "text"
      },
      "source": [
        "<a href=\"https://colab.research.google.com/github/Hongquanthaort/baitap/blob/main/bt_s%E1%BA%AFp_x%E1%BA%BFp.ipynb\" target=\"_parent\"><img src=\"https://colab.research.google.com/assets/colab-badge.svg\" alt=\"Open In Colab\"/></a>"
      ]
    },
    {
      "cell_type": "markdown",
      "metadata": {
        "id": "WCWvYJPNYp2E"
      },
      "source": [
        "Bài 1:"
      ]
    },
    {
      "cell_type": "code",
      "metadata": {
        "id": "3Iiwm_PwYihv"
      },
      "source": [
        "Danh_sach1 = []\n",
        "n = 0\n",
        "while n<10:\n",
        "  ds1.append(int(input(\"nhập số nguyên từ bàn phím : \")))\n",
        "  n+=1\n",
        "sorted(Danh_sach1)"
      ],
      "execution_count": null,
      "outputs": []
    },
    {
      "cell_type": "markdown",
      "metadata": {
        "id": "GrXy6-7DYnQl"
      },
      "source": [
        "Bài 2:"
      ]
    },
    {
      "cell_type": "code",
      "metadata": {
        "colab": {
          "base_uri": "https://localhost:8080/"
        },
        "id": "0jbPH3BM2olN",
        "outputId": "a3cc5ab8-83f9-4b09-9c4f-3649e37e375a"
      },
      "source": [
        "def nhap_danh_sach_so_nguyen(n):\n",
        "  Danh_sach2 = [] \n",
        "  for i in range (n):\n",
        "    Danh_sach2.append(int(input(\"nhập số nguyên: \")))\n",
        "  return Danh_sach2 \n",
        "\n",
        "def sap_xep_danh_sach(x): \n",
        "  x = sorted(x)\n",
        "  return x\n",
        "\n",
        "Nhap_2 = int(input(\"nhập n: \"))\n",
        "sap_xep_danh_sach(nhap_danh_sach_so_nguyen(Nhap_2))"
      ],
      "execution_count": null,
      "outputs": [
        {
          "name": "stdout",
          "output_type": "stream",
          "text": [
            "nhập n: 6\n",
            "nhập số nguyên: 8\n",
            "nhập số nguyên: -9\n",
            "nhập số nguyên: 34\n",
            "nhập số nguyên: -98\n",
            "nhập số nguyên: 76\n",
            "nhập số nguyên: 5\n"
          ]
        },
        {
          "output_type": "execute_result",
          "data": {
            "text/plain": [
              "[-98, -9, 5, 8, 34, 76]"
            ]
          },
          "metadata": {},
          "execution_count": 26
        }
      ]
    },
    {
      "cell_type": "markdown",
      "metadata": {
        "id": "aRSAEHSdAB76"
      },
      "source": [
        "Bài 3:"
      ]
    },
    {
      "cell_type": "code",
      "metadata": {
        "id": "k9MdfwbDAGc6"
      },
      "source": [
        "check = \"\"\n",
        "Danh_sach3 = []\n",
        "while True:\n",
        "  Danh_sach3.append(float(input(\"nhập số thực: \")))\n",
        "  check = input(\"có muốn tiếp tục không? C/K: \")\n",
        "  if check in \"Kk\":\n",
        "    break\n",
        "sorted(Danh_sach3, reverse=True)"
      ],
      "execution_count": null,
      "outputs": []
    },
    {
      "cell_type": "markdown",
      "metadata": {
        "id": "6kSkqD3rDk5Z"
      },
      "source": [
        "Bài 4: \n"
      ]
    },
    {
      "cell_type": "code",
      "metadata": {
        "id": "pH_cDb-1DvXt"
      },
      "source": [
        "def nhap_danh_sach_so_thuc():\n",
        "  check = \"\"\n",
        "  Danh_sach4 = []\n",
        "  while True:\n",
        "    Danh_sach3.append(float(input(\"nhập số thực: \")))\n",
        "    check = input(\"có muốn tiếp tục không? C/K: \")\n",
        "    if check in \"Kk\":\n",
        "      break\n",
        "  return Danh_sach3\n",
        "  \n",
        "def sap_xep_danh_sach_so_thuc(x):\n",
        "  x = sorted(x, reverse=True)\n",
        "  return x\n",
        "\n",
        "sap_xep_danh_sach_so_thuc(nhap_danh_sach_so_thuc())"
      ],
      "execution_count": null,
      "outputs": []
    },
    {
      "cell_type": "markdown",
      "metadata": {
        "id": "7iIH39oCFIRi"
      },
      "source": [
        "Bài 5: \n"
      ]
    },
    {
      "cell_type": "code",
      "metadata": {
        "id": "m_TxXIweFU5a"
      },
      "source": [
        "import random\n",
        "Danh_sach5 = []\n",
        "nhap5 = int(input(\"Số phần tử: \"))\n",
        "check5 = 0\n",
        "max_value = int(input(\"Nhap gia tri max_value: \"))\n",
        "for i in range(nhap5):\n",
        "  Danh_sach5.append(random.randint(0, max_value))\n",
        "while True:\n",
        "  check5 = int(input(\"Lựa chọn (1) tăng dần, (2) giảm dần: \"))\n",
        "  if check5 == 1: \n",
        "    print(sap_xep_danh_sach(Danh_sach5))\n",
        "    break\n",
        "  elif check5 == 2:\n",
        "    print(sap_xep_danh_sach_so_thuc(Danh_sach5))\n",
        "    break"
      ],
      "execution_count": null,
      "outputs": []
    },
    {
      "cell_type": "markdown",
      "metadata": {
        "id": "wffIopsyHS-E"
      },
      "source": [
        "Bài 6: "
      ]
    },
    {
      "cell_type": "code",
      "metadata": {
        "id": "3AiNaW4WHhFh"
      },
      "source": [
        "def sinh_ngau_nhien_danh_sach_so_nguyen(n, max_value):\n",
        "  Danh_sach6 = []\n",
        "  check6 = 0\n",
        "  for i in range(n):\n",
        "    Danh_sach6.append(random.randint(0, max_value))\n",
        "  return Danh_sach6\n",
        "\n",
        "def sap_xep_giam_dan(x):\n",
        "  x = sap_xep_danh_sach_so_thuc(x)\n",
        "  return x\n",
        "\n",
        "def sap_xep_tang_dan(x):\n",
        "  x = sap_xep_danh_sach(x)\n",
        "  return x\n",
        "\n",
        "n6 = int(input(\"Số phần tử: \"))\n",
        "max_value = int(input(\"Nhap gia tri max_value: \"))\n",
        "print(sap_xep_giam_dan(sinh_ngau_nhien_danh_sach_so_nguyen(n6, max_value)))\n",
        "sap_xep_tang_dan(sinh_ngau_nhien_danh_sach_so_nguyen(n6, max_value))"
      ],
      "execution_count": null,
      "outputs": []
    }
  ]
}