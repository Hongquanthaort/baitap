{
  "nbformat": 4,
  "nbformat_minor": 0,
  "metadata": {
    "colab": {
      "name": "Bài_tập_tại_lớp.ipynb",
      "provenance": [],
      "authorship_tag": "ABX9TyOJ7YJr1Jpa26tqkrNXrITq",
      "include_colab_link": true
    },
    "kernelspec": {
      "name": "python3",
      "display_name": "Python 3"
    },
    "language_info": {
      "name": "python"
    }
  },
  "cells": [
    {
      "cell_type": "markdown",
      "metadata": {
        "id": "view-in-github",
        "colab_type": "text"
      },
      "source": [
        "<a href=\"https://colab.research.google.com/github/Hongquanthaort/baitap/blob/main/B%C3%A0i_t%E1%BA%ADp_t%E1%BA%A1i_l%E1%BB%9Bp.ipynb\" target=\"_parent\"><img src=\"https://colab.research.google.com/assets/colab-badge.svg\" alt=\"Open In Colab\"/></a>"
      ]
    },
    {
      "cell_type": "code",
      "metadata": {
        "colab": {
          "base_uri": "https://localhost:8080/"
        },
        "id": "AZ65BdV1Yvmf",
        "outputId": "d008d29e-604c-4b83-f632-86b0ac19a678"
      },
      "source": [
        "a = loan_amount = 2000000\n",
        "b = mountlyinterestRate = 0.1\n",
        "c = numberOfyears= 12\n",
        "monthlyPayment = a*b / (1-(1/(1+b)**(c*12)))\n",
        "print(monthlyPayment)"
      ],
      "execution_count": 27,
      "outputs": [
        {
          "output_type": "stream",
          "name": "stdout",
          "text": [
            "200000.21902001707\n"
          ]
        }
      ]
    }
  ]
}