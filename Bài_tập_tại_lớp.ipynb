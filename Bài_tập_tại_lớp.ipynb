{
  "nbformat": 4,
  "nbformat_minor": 0,
  "metadata": {
    "colab": {
      "name": "Bài_tập_tại_lớp.ipynb",
      "provenance": [],
      "authorship_tag": "ABX9TyNnoOBZFQZOisBJ0smZQhyX",
      "include_colab_link": true
    },
    "kernelspec": {
      "name": "python3",
      "display_name": "Python 3"
    },
    "language_info": {
      "name": "python"
    }
  },
  "cells": [
    {
      "cell_type": "markdown",
      "metadata": {
        "id": "view-in-github",
        "colab_type": "text"
      },
      "source": [
        "<a href=\"https://colab.research.google.com/github/Hongquanthaort/baitap/blob/main/B%C3%A0i_t%E1%BA%ADp_t%E1%BA%A1i_l%E1%BB%9Bp.ipynb\" target=\"_parent\"><img src=\"https://colab.research.google.com/assets/colab-badge.svg\" alt=\"Open In Colab\"/></a>"
      ]
    },
    {
      "cell_type": "code",
      "metadata": {
        "colab": {
          "base_uri": "https://localhost:8080/"
        },
        "id": "AZ65BdV1Yvmf",
        "outputId": "9a3fc1a8-639f-4c66-9ce7-8f407f159cca"
      },
      "source": [
        "a = loan_amount = 2000000\n",
        "b = mountlyinterestRate = 0.1\n",
        "c = numberOfyears= 12\n",
        "monthlyPayment = a*b / (1-(1/(1+b)**(c*12)))\n",
        "print(monthlyPayment)"
      ],
      "execution_count": 28,
      "outputs": [
        {
          "output_type": "stream",
          "name": "stdout",
          "text": [
            "200000.21902001707\n"
          ]
        }
      ]
    },
    {
      "cell_type": "code",
      "metadata": {
        "colab": {
          "base_uri": "https://localhost:8080/"
        },
        "id": "YKqybjCldZYe",
        "outputId": "690d90bb-466f-4e85-8007-1871847b7a8b"
      },
      "source": [
        "import math\n",
        "\n",
        "#toạ độ điểm M(x1;y1)\n",
        "x1 = float(input(\"nhap x1: \"))\n",
        "y1 = float(input(\"nhập y1: \"))\n",
        "\n",
        "#toạ độ điểm N(x2;y2)\n",
        "x2 = float(input(\"nhap x2: \"))\n",
        "y2 = float(input(\"nhap y2: \"))\n",
        "\n",
        "#khoảng cách giữa hai điểm MN\n",
        "khoang_cach = math.sqrt((x2 - x1)**2 + (y2 - y1)**2)\n",
        "\n",
        "print(khoang_cach)"
      ],
      "execution_count": 41,
      "outputs": [
        {
          "output_type": "stream",
          "name": "stdout",
          "text": [
            "nhap x1: 1\n",
            "nhập y1: 4\n",
            "nhap x2: 2\n",
            "nhap y2: 1\n",
            "3.1622776601683795\n"
          ]
        }
      ]
    }
  ]
}