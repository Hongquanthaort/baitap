{
  "nbformat": 4,
  "nbformat_minor": 0,
  "metadata": {
    "colab": {
      "name": "Bài tập lập trình.ipynb",
      "provenance": [],
      "collapsed_sections": [],
      "authorship_tag": "ABX9TyN/zSFnvtm2zBjKW3pfCrhm",
      "include_colab_link": true
    },
    "kernelspec": {
      "display_name": "Python 3",
      "name": "python3"
    },
    "language_info": {
      "name": "python"
    }
  },
  "cells": [
    {
      "cell_type": "markdown",
      "metadata": {
        "id": "view-in-github",
        "colab_type": "text"
      },
      "source": [
        "<a href=\"https://colab.research.google.com/github/Hongquanthaort/baitap/blob/main/B%C3%A0i_t%E1%BA%ADp_l%E1%BA%ADp_tr%C3%ACnh.ipynb\" target=\"_parent\"><img src=\"https://colab.research.google.com/assets/colab-badge.svg\" alt=\"Open In Colab\"/></a>"
      ]
    },
    {
      "cell_type": "markdown",
      "metadata": {
        "id": "dbjStCF4j5qe"
      },
      "source": [
        "**Bài 1**"
      ]
    },
    {
      "cell_type": "markdown",
      "metadata": {
        "id": "7zYqDPtvJUpw"
      },
      "source": [
        ""
      ]
    },
    {
      "cell_type": "code",
      "metadata": {
        "id": "un1jCJbQkACa"
      },
      "source": [
        "#nhập dữ liệu\n",
        "\n",
        "a = input(\"a=\")\n",
        "b= input(\"b=\")\n",
        "a = int(a)\n",
        "b= int(b)\n",
        "#Tổng 2 số\n",
        "c=a+b\n",
        "print(\"a + b = \",c)\n",
        "#Tích 2 số\n",
        "d=a*b\n",
        "print(\"a*b =\", d)\n",
        "#Hiệu của 2 số\n",
        "h= a-b\n",
        "print(\"a - b = \", h)\n",
        "#Phép chia lấy phần dư của 2 số\n",
        "s= a%b\n",
        "print(\"a%b = \", s)\n",
        "#Phép chia lấy phần nguyên của 2 số\n",
        "g=a//b\n",
        "print(\"a//b = \",g)"
      ],
      "execution_count": null,
      "outputs": []
    },
    {
      "cell_type": "markdown",
      "metadata": {
        "id": "-N4C9cYNmgt5"
      },
      "source": [
        ""
      ]
    },
    {
      "cell_type": "markdown",
      "metadata": {
        "id": "9xczS3_Jmg6x"
      },
      "source": [
        "**Bài 2**"
      ]
    },
    {
      "cell_type": "code",
      "metadata": {
        "id": "SiuxUI87mke6"
      },
      "source": [
        "#nhập dữ liệu\n",
        "\n",
        "a = input(\"a=\")\n",
        "b= input(\"b=\")\n",
        "a = float(a)\n",
        "b= float(b)\n",
        "#Tổng 2 số\n",
        "c=a+b\n",
        "print(\"a + b = \",c)\n",
        "#Tích 2 số\n",
        "d=a*b\n",
        "print(\"a*b =\", d)\n",
        "#Hiệu của 2 số\n",
        "h= a-b\n",
        "print(\"a - b = \", h)\n",
        "#Thương của 2 số\n",
        "t=a/b\n",
        "print(\"a/b = \",t)\n"
      ],
      "execution_count": null,
      "outputs": []
    },
    {
      "cell_type": "markdown",
      "metadata": {
        "id": "bbBK3T7boAtJ"
      },
      "source": [
        "**Bài 3**"
      ]
    },
    {
      "cell_type": "code",
      "metadata": {
        "colab": {
          "background_save": true,
          "base_uri": "https://localhost:8080/"
        },
        "id": "oeqxBGnHoB-E",
        "outputId": "ac4d0b52-3fff-43d8-ae29-64eac370276a"
      },
      "source": [
        "#nhập dữ liệu\n",
        "\n",
        "a = input(\"Nhập số =\")\n",
        "a = float(a)\n",
        "#Trị tuyệt đối\n",
        "x=abs(a)\n",
        "print(\"Trị tuyệt đối =\",x)\n",
        "#Lấy phần nguyên của số\n",
        "import math\n",
        "a=float(a)\n",
        "import math\n",
        "math.modf(a)\n",
        "print(\"Phần nguyên là =\",int(a))\n",
        "#Chuyển đổi thành số thực\n",
        "print(\"chuyển thành phần số thực =\",a)\n",
        "#(nhập thêm 1 số từ bàn phím) và tính lũy thừa \n",
        "import math\n",
        "x = input(\"nhập x = \")\n",
        "x=int(x)\n",
        "y = input(\"nhập y = \")\n",
        "y=int(y)\n",
        "print(x, \"lũy thừa\", y, \"= \", end=\"\")\n",
        "print(math.pow(x, y))\n",
        "#Tính căn bậc hai\n",
        "if a <0:\n",
        "  print(\"Không có căn bậc 2\")\n",
        "else :\n",
        "  import math\n",
        "  print(\"Căn bậc 2 của\", a, \"= \", end=\"\")\n",
        "print(math.sqrt(a))\n",
        "\n",
        "\n",
        "\n",
        "\n",
        "\n",
        "\n",
        "\n",
        "\n",
        "\n",
        "\n",
        "\n",
        "\n",
        "\n",
        "\n"
      ],
      "execution_count": null,
      "outputs": [
        {
          "name": "stdout",
          "output_type": "stream",
          "text": [
            "Trị tuyệt đối = 25.12\n",
            "Phần nguyên là = 25\n",
            "chuyển thành phần số thực = 25.12\n"
          ]
        }
      ]
    },
    {
      "cell_type": "markdown",
      "metadata": {
        "id": "ERzYY4P3BwNA"
      },
      "source": [
        "**Bài 4**"
      ]
    },
    {
      "cell_type": "code",
      "metadata": {
        "id": "8Fov75jDB2I2",
        "colab": {
          "base_uri": "https://localhost:8080/"
        },
        "outputId": "7fc63496-a349-413a-85a2-34db2420f76b"
      },
      "source": [
        "#nhập dữ liệu\n",
        "\n",
        "a = input(\"a=\")\n",
        "b= input(\"b=\")\n",
        "a = float(a)\n",
        "b= float(b)\n",
        "#≥\n",
        "print(\"a>=b\",a>=b)\n",
        "#<=\n",
        "print(\"a<=b\",a<=b)\n",
        "#>\n",
        "print(\"a>b\",a>b)\n",
        "#<\n",
        "print(\"a<b\",a<b)\n",
        "#khác\n",
        "print(\"a!=b\",a!=b)"
      ],
      "execution_count": 1,
      "outputs": [
        {
          "output_type": "stream",
          "name": "stdout",
          "text": [
            "a=3\n",
            "b=2\n",
            "a>=b True\n",
            "False\n",
            "True\n",
            "False\n",
            "True\n"
          ]
        }
      ]
    },
    {
      "cell_type": "markdown",
      "metadata": {
        "id": "xU_eB455FsUu"
      },
      "source": [
        "**Bài 5**"
      ]
    },
    {
      "cell_type": "code",
      "metadata": {
        "id": "BkppHkyOIJVn"
      },
      "source": [
        "#Viết hoa cả chuỗi\n",
        "x= input(\"nhập chuỗi: \")\n",
        "print(x.upper())\n",
        "#Viết thường cả chuỗi\n",
        "y= input(\"NHẬP CHUỖI: \")\n",
        "print(y.lower())\n"
      ],
      "execution_count": null,
      "outputs": []
    },
    {
      "cell_type": "markdown",
      "metadata": {
        "id": "FZCVMoo_IqbB"
      },
      "source": [
        "bài 6"
      ]
    },
    {
      "cell_type": "code",
      "metadata": {
        "colab": {
          "base_uri": "https://localhost:8080/"
        },
        "id": "w51XanGiIug5",
        "outputId": "360e82d6-e636-4c1e-ea90-9e4a350ac3a7"
      },
      "source": [
        "#Xuất kí tự\n",
        "print(\"sóng bắt đầu từ gió\")\n",
        "print(\"Gió bắt đầu từ đâu\")\n",
        "print(\"\\tGió được hình thành từ sự chênh lệch áp suất\")\n",
        "print(\"\\tTừ nơi \\\"áp suất cao\\\" đến nới\\\"áp suất thấp\\\"\")\n",
        "print(\"Hết bài\")"
      ],
      "execution_count": null,
      "outputs": [
        {
          "name": "stdout",
          "output_type": "stream",
          "text": [
            "sóng bắt đầu từ gió\n",
            "Gió bắt đầu từ đâu\n",
            "\tGió được hình thành từ sự chênh lệch áp suất\n",
            "\tTừ nơi \"áp suất cao\" đến nới\"áp suất thấp\"\n",
            "Hết bài\n"
          ]
        }
      ]
    }
  ]
}