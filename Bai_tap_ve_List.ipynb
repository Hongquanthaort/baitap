{
  "nbformat": 4,
  "nbformat_minor": 0,
  "metadata": {
    "colab": {
      "name": "Bai_tap_ve_List.ipynb",
      "provenance": [],
      "authorship_tag": "ABX9TyOE64gz7uhX14sjpxV2Rtx8",
      "include_colab_link": true
    },
    "kernelspec": {
      "name": "python3",
      "display_name": "Python 3"
    },
    "language_info": {
      "name": "python"
    }
  },
  "cells": [
    {
      "cell_type": "markdown",
      "metadata": {
        "id": "view-in-github",
        "colab_type": "text"
      },
      "source": [
        "<a href=\"https://colab.research.google.com/github/Hongquanthaort/baitap/blob/main/Bai_tap_ve_List.ipynb\" target=\"_parent\"><img src=\"https://colab.research.google.com/assets/colab-badge.svg\" alt=\"Open In Colab\"/></a>"
      ]
    },
    {
      "cell_type": "code",
      "metadata": {
        "id": "vfSp4COCPDYJ",
        "colab": {
          "base_uri": "https://localhost:8080/"
        },
        "outputId": "b461e1a9-80a0-4ed7-b24e-7081f3ec9ca5"
      },
      "source": [
        "x = []\n",
        "print(x)\n",
        "x.append(18)\n",
        "print(x)\n",
        "x.append(\"Huế\")\n",
        "print(x)\n",
        "y = [12,45,-1,-0.56,\"abc\"]\n",
        "print(y)\n",
        "x.extend(y)\n",
        "print(x)\n",
        "print(x[0],x[-1])\n",
        "print(x[:5])\n",
        "print(x[2:])"
      ],
      "execution_count": 1,
      "outputs": [
        {
          "output_type": "stream",
          "name": "stdout",
          "text": [
            "[]\n",
            "[18]\n",
            "[18, 'Huế']\n",
            "[12, 45, -1, -0.56, 'abc']\n",
            "[18, 'Huế', 12, 45, -1, -0.56, 'abc']\n",
            "18 abc\n",
            "[18, 'Huế', 12, 45, -1]\n",
            "[12, 45, -1, -0.56, 'abc']\n"
          ]
        }
      ]
    }
  ]
}